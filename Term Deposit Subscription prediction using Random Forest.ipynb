{
 "cells": [
  {
   "cell_type": "code",
   "execution_count": 1,
   "metadata": {},
   "outputs": [],
   "source": [
    "import numpy as np\n",
    "import pandas as pd\n",
    "import matplotlib.pyplot as plt\n",
    "import seaborn as sns\n",
    "%matplotlib inline"
   ]
  },
  {
   "cell_type": "code",
   "execution_count": 9,
   "metadata": {},
   "outputs": [],
   "source": [
    "data = pd.read_csv('C:/Users/naman/Desktop/ML datasets/term_deposit_subscription_classification.csv')"
   ]
  },
  {
   "cell_type": "code",
   "execution_count": 10,
   "metadata": {},
   "outputs": [
    {
     "data": {
      "text/html": [
       "<div>\n",
       "<style scoped>\n",
       "    .dataframe tbody tr th:only-of-type {\n",
       "        vertical-align: middle;\n",
       "    }\n",
       "\n",
       "    .dataframe tbody tr th {\n",
       "        vertical-align: top;\n",
       "    }\n",
       "\n",
       "    .dataframe thead th {\n",
       "        text-align: right;\n",
       "    }\n",
       "</style>\n",
       "<table border=\"1\" class=\"dataframe\">\n",
       "  <thead>\n",
       "    <tr style=\"text-align: right;\">\n",
       "      <th></th>\n",
       "      <th>age</th>\n",
       "      <th>job</th>\n",
       "      <th>marital</th>\n",
       "      <th>education</th>\n",
       "      <th>default</th>\n",
       "      <th>balance</th>\n",
       "      <th>housing</th>\n",
       "      <th>loan</th>\n",
       "      <th>contact</th>\n",
       "      <th>day</th>\n",
       "      <th>month</th>\n",
       "      <th>duration</th>\n",
       "      <th>campaign</th>\n",
       "      <th>pdays</th>\n",
       "      <th>previous</th>\n",
       "      <th>poutcome</th>\n",
       "      <th>deposit</th>\n",
       "    </tr>\n",
       "  </thead>\n",
       "  <tbody>\n",
       "    <tr>\n",
       "      <th>0</th>\n",
       "      <td>59</td>\n",
       "      <td>admin.</td>\n",
       "      <td>married</td>\n",
       "      <td>secondary</td>\n",
       "      <td>no</td>\n",
       "      <td>2343</td>\n",
       "      <td>yes</td>\n",
       "      <td>no</td>\n",
       "      <td>unknown</td>\n",
       "      <td>5</td>\n",
       "      <td>may</td>\n",
       "      <td>1042</td>\n",
       "      <td>1</td>\n",
       "      <td>-1</td>\n",
       "      <td>0</td>\n",
       "      <td>unknown</td>\n",
       "      <td>yes</td>\n",
       "    </tr>\n",
       "    <tr>\n",
       "      <th>1</th>\n",
       "      <td>56</td>\n",
       "      <td>admin.</td>\n",
       "      <td>married</td>\n",
       "      <td>secondary</td>\n",
       "      <td>no</td>\n",
       "      <td>45</td>\n",
       "      <td>no</td>\n",
       "      <td>no</td>\n",
       "      <td>unknown</td>\n",
       "      <td>5</td>\n",
       "      <td>may</td>\n",
       "      <td>1467</td>\n",
       "      <td>1</td>\n",
       "      <td>-1</td>\n",
       "      <td>0</td>\n",
       "      <td>unknown</td>\n",
       "      <td>yes</td>\n",
       "    </tr>\n",
       "    <tr>\n",
       "      <th>2</th>\n",
       "      <td>41</td>\n",
       "      <td>technician</td>\n",
       "      <td>married</td>\n",
       "      <td>secondary</td>\n",
       "      <td>no</td>\n",
       "      <td>1270</td>\n",
       "      <td>yes</td>\n",
       "      <td>no</td>\n",
       "      <td>unknown</td>\n",
       "      <td>5</td>\n",
       "      <td>may</td>\n",
       "      <td>1389</td>\n",
       "      <td>1</td>\n",
       "      <td>-1</td>\n",
       "      <td>0</td>\n",
       "      <td>unknown</td>\n",
       "      <td>yes</td>\n",
       "    </tr>\n",
       "    <tr>\n",
       "      <th>3</th>\n",
       "      <td>55</td>\n",
       "      <td>services</td>\n",
       "      <td>married</td>\n",
       "      <td>secondary</td>\n",
       "      <td>no</td>\n",
       "      <td>2476</td>\n",
       "      <td>yes</td>\n",
       "      <td>no</td>\n",
       "      <td>unknown</td>\n",
       "      <td>5</td>\n",
       "      <td>may</td>\n",
       "      <td>579</td>\n",
       "      <td>1</td>\n",
       "      <td>-1</td>\n",
       "      <td>0</td>\n",
       "      <td>unknown</td>\n",
       "      <td>yes</td>\n",
       "    </tr>\n",
       "    <tr>\n",
       "      <th>4</th>\n",
       "      <td>54</td>\n",
       "      <td>admin.</td>\n",
       "      <td>married</td>\n",
       "      <td>tertiary</td>\n",
       "      <td>no</td>\n",
       "      <td>184</td>\n",
       "      <td>no</td>\n",
       "      <td>no</td>\n",
       "      <td>unknown</td>\n",
       "      <td>5</td>\n",
       "      <td>may</td>\n",
       "      <td>673</td>\n",
       "      <td>2</td>\n",
       "      <td>-1</td>\n",
       "      <td>0</td>\n",
       "      <td>unknown</td>\n",
       "      <td>yes</td>\n",
       "    </tr>\n",
       "  </tbody>\n",
       "</table>\n",
       "</div>"
      ],
      "text/plain": [
       "   age         job  marital  education default  balance housing loan  contact  \\\n",
       "0   59      admin.  married  secondary      no     2343     yes   no  unknown   \n",
       "1   56      admin.  married  secondary      no       45      no   no  unknown   \n",
       "2   41  technician  married  secondary      no     1270     yes   no  unknown   \n",
       "3   55    services  married  secondary      no     2476     yes   no  unknown   \n",
       "4   54      admin.  married   tertiary      no      184      no   no  unknown   \n",
       "\n",
       "   day month  duration  campaign  pdays  previous poutcome deposit  \n",
       "0    5   may      1042         1     -1         0  unknown     yes  \n",
       "1    5   may      1467         1     -1         0  unknown     yes  \n",
       "2    5   may      1389         1     -1         0  unknown     yes  \n",
       "3    5   may       579         1     -1         0  unknown     yes  \n",
       "4    5   may       673         2     -1         0  unknown     yes  "
      ]
     },
     "execution_count": 10,
     "metadata": {},
     "output_type": "execute_result"
    }
   ],
   "source": [
    "data.head()"
   ]
  },
  {
   "cell_type": "code",
   "execution_count": 11,
   "metadata": {},
   "outputs": [
    {
     "name": "stdout",
     "output_type": "stream",
     "text": [
      "<class 'pandas.core.frame.DataFrame'>\n",
      "RangeIndex: 11162 entries, 0 to 11161\n",
      "Data columns (total 17 columns):\n",
      "age          11162 non-null int64\n",
      "job          11162 non-null object\n",
      "marital      11162 non-null object\n",
      "education    11162 non-null object\n",
      "default      11162 non-null object\n",
      "balance      11162 non-null int64\n",
      "housing      11162 non-null object\n",
      "loan         11162 non-null object\n",
      "contact      11162 non-null object\n",
      "day          11162 non-null int64\n",
      "month        11162 non-null object\n",
      "duration     11162 non-null int64\n",
      "campaign     11162 non-null int64\n",
      "pdays        11162 non-null int64\n",
      "previous     11162 non-null int64\n",
      "poutcome     11162 non-null object\n",
      "deposit      11162 non-null object\n",
      "dtypes: int64(7), object(10)\n",
      "memory usage: 1.4+ MB\n"
     ]
    }
   ],
   "source": [
    "data.info()"
   ]
  },
  {
   "cell_type": "code",
   "execution_count": 12,
   "metadata": {},
   "outputs": [
    {
     "data": {
      "text/plain": [
       "<matplotlib.axes._subplots.AxesSubplot at 0x1609d6c6f98>"
      ]
     },
     "execution_count": 12,
     "metadata": {},
     "output_type": "execute_result"
    },
    {
     "data": {
      "image/png": "[encoded data removed]",
      "text/plain": [
       "<Figure size 1080x720 with 1 Axes>"
      ]
     },
     "metadata": {},
     "output_type": "display_data"
    }
   ],
   "source": [
    "plt.figure(figsize=(15,10))\n",
    "sns.countplot('age',data = data,hue='deposit')"
   ]
  },
  {
   "cell_type": "markdown",
   "metadata": {},
   "source": [
    "People below 28 or above 60 years of age are more likely to subscribe to term deposits"
   ]
  },
  {
   "cell_type": "code",
   "execution_count": 14,
   "metadata": {},
   "outputs": [
    {
     "data": {
      "text/plain": [
       "<matplotlib.axes._subplots.AxesSubplot at 0x1609db10278>"
      ]
     },
     "execution_count": 14,
     "metadata": {},
     "output_type": "execute_result"
    },
    {
     "data": {
      "image/png": "[encoded data removed]",
      "text/plain": [
       "<Figure size 1080x720 with 1 Axes>"
      ]
     },
     "metadata": {},
     "output_type": "display_data"
    }
   ],
   "source": [
    "plt.figure(figsize=(15,10))\n",
    "sns.countplot('job',data = data,hue='deposit')"
   ]
  },
  {
   "cell_type": "code",
   "execution_count": 21,
   "metadata": {},
   "outputs": [
    {
     "data": {
      "text/plain": [
       "<matplotlib.axes._subplots.AxesSubplot at 0x160a23ded68>"
      ]
     },
     "execution_count": 21,
     "metadata": {},
     "output_type": "execute_result"
    },
    {
     "data": {
      "image/png": "[encoded data removed]",
      "text/plain": [
       "<Figure size 1080x720 with 1 Axes>"
      ]
     },
     "metadata": {},
     "output_type": "display_data"
    }
   ],
   "source": [
    "plt.figure(figsize=(15,10))\n",
    "sns.countplot('month',data = data,hue='deposit')"
   ]
  },
  {
   "cell_type": "code",
   "execution_count": 22,
   "metadata": {},
   "outputs": [
    {
     "data": {
      "text/plain": [
       "<matplotlib.axes._subplots.AxesSubplot at 0x1609df4ebe0>"
      ]
     },
     "execution_count": 22,
     "metadata": {},
     "output_type": "execute_result"
    },
    {
     "data": {
      "image/png": "[encoded data removed]",
      "text/plain": [
       "<Figure size 1080x720 with 1 Axes>"
      ]
     },
     "metadata": {},
     "output_type": "display_data"
    }
   ],
   "source": [
    "plt.figure(figsize=(15,10))\n",
    "sns.countplot('campaign',data = data,hue='deposit')"
   ]
  },
  {
   "cell_type": "code",
   "execution_count": 23,
   "metadata": {},
   "outputs": [
    {
     "data": {
      "text/plain": [
       "<matplotlib.axes._subplots.AxesSubplot at 0x160acff1fd0>"
      ]
     },
     "execution_count": 23,
     "metadata": {},
     "output_type": "execute_result"
    },
    {
     "data": {
      "image/png": "[encoded data removed]",
      "text/plain": [
       "<Figure size 1080x720 with 1 Axes>"
      ]
     },
     "metadata": {},
     "output_type": "display_data"
    }
   ],
   "source": [
    "plt.figure(figsize=(15,10))\n",
    "sns.countplot('duration',data = data,hue='deposit')"
   ]
  },
  {
   "cell_type": "markdown",
   "metadata": {},
   "source": [
    "Clients with whom the duration of call lasted for longer periods of time tend to subscribe to term deposits"
   ]
  },
  {
   "cell_type": "code",
   "execution_count": 25,
   "metadata": {},
   "outputs": [
    {
     "data": {
      "text/plain": [
       "<matplotlib.axes._subplots.AxesSubplot at 0x160ad9fb9e8>"
      ]
     },
     "execution_count": 25,
     "metadata": {},
     "output_type": "execute_result"
    },
    {
     "data": {
      "image/png": "[encoded data removed]",
      "text/plain": [
       "<Figure size 1080x720 with 1 Axes>"
      ]
     },
     "metadata": {},
     "output_type": "display_data"
    }
   ],
   "source": [
    "plt.figure(figsize=(15,10))\n",
    "sns.countplot('poutcome',data = data)"
   ]
  },
  {
   "cell_type": "code",
   "execution_count": 28,
   "metadata": {},
   "outputs": [
    {
     "data": {
      "text/plain": [
       "array(['admin.', 'technician', 'services', 'management', 'retired',\n",
       "       'blue-collar', 'unemployed', 'entrepreneur', 'housemaid', 'unknown',\n",
       "       'self-employed', 'student'], dtype=object)"
      ]
     },
     "execution_count": 28,
     "metadata": {},
     "output_type": "execute_result"
    }
   ],
   "source": [
    "data['job'].unique()"
   ]
  },
  {
   "cell_type": "code",
   "execution_count": 29,
   "metadata": {},
   "outputs": [],
   "source": [
    "jobs = {\n",
    "    'admin.':1,\n",
    "    'technician':2,\n",
    "    'services':3,\n",
    "    'management':4,\n",
    "    'retired':5,\n",
    "    'blue-collar':6,\n",
    "    'unemployed':7,\n",
    "    'entrepreneur':8,\n",
    "    'housemaid':9,\n",
    "    'unknown':0,\n",
    "    'self-employed':10,\n",
    "    'student':11\n",
    "}\n",
    "\n",
    "data = data.replace({'job':jobs},) "
   ]
  },
  {
   "cell_type": "code",
   "execution_count": 30,
   "metadata": {},
   "outputs": [
    {
     "data": {
      "text/plain": [
       "array(['married', 'single', 'divorced'], dtype=object)"
      ]
     },
     "execution_count": 30,
     "metadata": {},
     "output_type": "execute_result"
    }
   ],
   "source": [
    "data['marital'].unique()"
   ]
  },
  {
   "cell_type": "code",
   "execution_count": 31,
   "metadata": {},
   "outputs": [],
   "source": [
    "marital = {\n",
    "    'married':1,\n",
    "    'single':2,\n",
    "    'divorced':3\n",
    "}\n",
    "\n",
    "data = data.replace({'marital':marital})"
   ]
  },
  {
   "cell_type": "code",
   "execution_count": 32,
   "metadata": {},
   "outputs": [
    {
     "data": {
      "text/plain": [
       "array(['secondary', 'tertiary', 'primary', 'unknown'], dtype=object)"
      ]
     },
     "execution_count": 32,
     "metadata": {},
     "output_type": "execute_result"
    }
   ],
   "source": [
    "data['education'].unique()"
   ]
  },
  {
   "cell_type": "code",
   "execution_count": 33,
   "metadata": {},
   "outputs": [],
   "source": [
    "education = {\n",
    "    'secondary':1,\n",
    "    'tertiary':2,\n",
    "    'primary':3,\n",
    "    'unknown':0\n",
    "}\n",
    "\n",
    "data = data.replace({'education':education})"
   ]
  },
  {
   "cell_type": "code",
   "execution_count": 35,
   "metadata": {},
   "outputs": [
    {
     "data": {
      "text/plain": [
       "array(['no', 'yes'], dtype=object)"
      ]
     },
     "execution_count": 35,
     "metadata": {},
     "output_type": "execute_result"
    }
   ],
   "source": [
    "data['default'].unique()"
   ]
  },
  {
   "cell_type": "code",
   "execution_count": 36,
   "metadata": {},
   "outputs": [
    {
     "data": {
      "text/plain": [
       "array(['yes', 'no'], dtype=object)"
      ]
     },
     "execution_count": 36,
     "metadata": {},
     "output_type": "execute_result"
    }
   ],
   "source": [
    "data['housing'].unique()"
   ]
  },
  {
   "cell_type": "code",
   "execution_count": 37,
   "metadata": {},
   "outputs": [
    {
     "data": {
      "text/plain": [
       "array(['no', 'yes'], dtype=object)"
      ]
     },
     "execution_count": 37,
     "metadata": {},
     "output_type": "execute_result"
    }
   ],
   "source": [
    "data['loan'].unique()"
   ]
  },
  {
   "cell_type": "code",
   "execution_count": 38,
   "metadata": {},
   "outputs": [
    {
     "data": {
      "text/plain": [
       "array(['yes', 'no'], dtype=object)"
      ]
     },
     "execution_count": 38,
     "metadata": {},
     "output_type": "execute_result"
    }
   ],
   "source": [
    "data['deposit'].unique()"
   ]
  },
  {
   "cell_type": "code",
   "execution_count": 39,
   "metadata": {},
   "outputs": [],
   "source": [
    "default = {\n",
    "    'no':0,\n",
    "    'yes':1\n",
    "}\n",
    "\n",
    "data = data.replace({'default':default,'housing':default,'loan':default,'deposit':default})"
   ]
  },
  {
   "cell_type": "code",
   "execution_count": 40,
   "metadata": {},
   "outputs": [
    {
     "data": {
      "text/plain": [
       "array(['unknown', 'cellular', 'telephone'], dtype=object)"
      ]
     },
     "execution_count": 40,
     "metadata": {},
     "output_type": "execute_result"
    }
   ],
   "source": [
    "data['contact'].unique()"
   ]
  },
  {
   "cell_type": "code",
   "execution_count": 41,
   "metadata": {},
   "outputs": [],
   "source": [
    "contact = {\n",
    "    'unknown':0,\n",
    "    'cellular':1,\n",
    "    'telephone':2\n",
    "}\n",
    "\n",
    "data = data.replace({'contact':contact})"
   ]
  },
  {
   "cell_type": "code",
   "execution_count": 42,
   "metadata": {},
   "outputs": [
    {
     "data": {
      "text/plain": [
       "array(['may', 'jun', 'jul', 'aug', 'oct', 'nov', 'dec', 'jan', 'feb',\n",
       "       'mar', 'apr', 'sep'], dtype=object)"
      ]
     },
     "execution_count": 42,
     "metadata": {},
     "output_type": "execute_result"
    }
   ],
   "source": [
    "data['month'].unique()"
   ]
  },
  {
   "cell_type": "code",
   "execution_count": 43,
   "metadata": {},
   "outputs": [],
   "source": [
    "month = {\n",
    "    'jan':1,\n",
    "    'feb':2,\n",
    "    'mar':3,\n",
    "    'apr':4,\n",
    "    'may':5,\n",
    "    'jun':6,\n",
    "    'jul':7,\n",
    "    'aug':8,\n",
    "    'sep':9,\n",
    "    'oct':10,\n",
    "    'nov':11,\n",
    "    'dec':12\n",
    "}\n",
    "\n",
    "data = data.replace({'month':month})"
   ]
  },
  {
   "cell_type": "code",
   "execution_count": 44,
   "metadata": {},
   "outputs": [
    {
     "data": {
      "text/plain": [
       "array(['unknown', 'other', 'failure', 'success'], dtype=object)"
      ]
     },
     "execution_count": 44,
     "metadata": {},
     "output_type": "execute_result"
    }
   ],
   "source": [
    "data['poutcome'].unique()"
   ]
  },
  {
   "cell_type": "code",
   "execution_count": 45,
   "metadata": {},
   "outputs": [],
   "source": [
    "poutcome = {\n",
    "    'unknown':0,\n",
    "    'other':1,\n",
    "    'failure':2,\n",
    "    'success':3\n",
    "}\n",
    "\n",
    "data = data.replace({'poutcome':poutcome})"
   ]
  },
  {
   "cell_type": "code",
   "execution_count": 46,
   "metadata": {},
   "outputs": [
    {
     "name": "stdout",
     "output_type": "stream",
     "text": [
      "<class 'pandas.core.frame.DataFrame'>\n",
      "RangeIndex: 11162 entries, 0 to 11161\n",
      "Data columns (total 17 columns):\n",
      "age          11162 non-null int64\n",
      "job          11162 non-null int64\n",
      "marital      11162 non-null int64\n",
      "education    11162 non-null int64\n",
      "default      11162 non-null int64\n",
      "balance      11162 non-null int64\n",
      "housing      11162 non-null int64\n",
      "loan         11162 non-null int64\n",
      "contact      11162 non-null int64\n",
      "day          11162 non-null int64\n",
      "month        11162 non-null int64\n",
      "duration     11162 non-null int64\n",
      "campaign     11162 non-null int64\n",
      "pdays        11162 non-null int64\n",
      "previous     11162 non-null int64\n",
      "poutcome     11162 non-null int64\n",
      "deposit      11162 non-null int64\n",
      "dtypes: int64(17)\n",
      "memory usage: 1.4 MB\n"
     ]
    }
   ],
   "source": [
    "data.info()"
   ]
  },
  {
   "cell_type": "code",
   "execution_count": 47,
   "metadata": {},
   "outputs": [
    {
     "data": {
      "text/html": [
       "<div>\n",
       "<style scoped>\n",
       "    .dataframe tbody tr th:only-of-type {\n",
       "        vertical-align: middle;\n",
       "    }\n",
       "\n",
       "    .dataframe tbody tr th {\n",
       "        vertical-align: top;\n",
       "    }\n",
       "\n",
       "    .dataframe thead th {\n",
       "        text-align: right;\n",
       "    }\n",
       "</style>\n",
       "<table border=\"1\" class=\"dataframe\">\n",
       "  <thead>\n",
       "    <tr style=\"text-align: right;\">\n",
       "      <th></th>\n",
       "      <th>age</th>\n",
       "      <th>job</th>\n",
       "      <th>marital</th>\n",
       "      <th>education</th>\n",
       "      <th>default</th>\n",
       "      <th>balance</th>\n",
       "      <th>housing</th>\n",
       "      <th>loan</th>\n",
       "      <th>contact</th>\n",
       "      <th>day</th>\n",
       "      <th>month</th>\n",
       "      <th>duration</th>\n",
       "      <th>campaign</th>\n",
       "      <th>pdays</th>\n",
       "      <th>previous</th>\n",
       "      <th>poutcome</th>\n",
       "      <th>deposit</th>\n",
       "    </tr>\n",
       "  </thead>\n",
       "  <tbody>\n",
       "    <tr>\n",
       "      <th>age</th>\n",
       "      <td>1.000000</td>\n",
       "      <td>-0.006349</td>\n",
       "      <td>-0.141610</td>\n",
       "      <td>0.120806</td>\n",
       "      <td>-0.011425</td>\n",
       "      <td>0.112300</td>\n",
       "      <td>-0.168700</td>\n",
       "      <td>-0.031418</td>\n",
       "      <td>0.135411</td>\n",
       "      <td>-0.000762</td>\n",
       "      <td>0.069312</td>\n",
       "      <td>0.000189</td>\n",
       "      <td>-0.005278</td>\n",
       "      <td>0.002774</td>\n",
       "      <td>0.020169</td>\n",
       "      <td>0.044880</td>\n",
       "      <td>0.034901</td>\n",
       "    </tr>\n",
       "    <tr>\n",
       "      <th>job</th>\n",
       "      <td>-0.006349</td>\n",
       "      <td>1.000000</td>\n",
       "      <td>-0.015943</td>\n",
       "      <td>0.178020</td>\n",
       "      <td>0.021488</td>\n",
       "      <td>0.014680</td>\n",
       "      <td>-0.078711</td>\n",
       "      <td>-0.045122</td>\n",
       "      <td>0.011909</td>\n",
       "      <td>-0.009604</td>\n",
       "      <td>0.006207</td>\n",
       "      <td>0.019971</td>\n",
       "      <td>-0.011725</td>\n",
       "      <td>-0.025605</td>\n",
       "      <td>-0.012549</td>\n",
       "      <td>-0.008664</td>\n",
       "      <td>0.024902</td>\n",
       "    </tr>\n",
       "    <tr>\n",
       "      <th>marital</th>\n",
       "      <td>-0.141610</td>\n",
       "      <td>-0.015943</td>\n",
       "      <td>1.000000</td>\n",
       "      <td>-0.033793</td>\n",
       "      <td>0.013950</td>\n",
       "      <td>-0.026316</td>\n",
       "      <td>-0.022530</td>\n",
       "      <td>-0.019343</td>\n",
       "      <td>-0.016336</td>\n",
       "      <td>-0.001393</td>\n",
       "      <td>-0.032277</td>\n",
       "      <td>0.035748</td>\n",
       "      <td>-0.037285</td>\n",
       "      <td>0.006591</td>\n",
       "      <td>-0.008577</td>\n",
       "      <td>-0.008716</td>\n",
       "      <td>0.068325</td>\n",
       "    </tr>\n",
       "    <tr>\n",
       "      <th>education</th>\n",
       "      <td>0.120806</td>\n",
       "      <td>0.178020</td>\n",
       "      <td>-0.033793</td>\n",
       "      <td>1.000000</td>\n",
       "      <td>0.003599</td>\n",
       "      <td>0.037351</td>\n",
       "      <td>-0.040511</td>\n",
       "      <td>-0.021496</td>\n",
       "      <td>0.008602</td>\n",
       "      <td>-0.003182</td>\n",
       "      <td>0.013675</td>\n",
       "      <td>0.011850</td>\n",
       "      <td>0.010744</td>\n",
       "      <td>-0.028692</td>\n",
       "      <td>-0.001618</td>\n",
       "      <td>-0.020162</td>\n",
       "      <td>-0.001849</td>\n",
       "    </tr>\n",
       "    <tr>\n",
       "      <th>default</th>\n",
       "      <td>-0.011425</td>\n",
       "      <td>0.021488</td>\n",
       "      <td>0.013950</td>\n",
       "      <td>0.003599</td>\n",
       "      <td>1.000000</td>\n",
       "      <td>-0.060954</td>\n",
       "      <td>0.011076</td>\n",
       "      <td>0.076434</td>\n",
       "      <td>-0.045252</td>\n",
       "      <td>0.017342</td>\n",
       "      <td>0.006561</td>\n",
       "      <td>-0.009760</td>\n",
       "      <td>0.030975</td>\n",
       "      <td>-0.036282</td>\n",
       "      <td>-0.035273</td>\n",
       "      <td>-0.053619</td>\n",
       "      <td>-0.040680</td>\n",
       "    </tr>\n",
       "    <tr>\n",
       "      <th>balance</th>\n",
       "      <td>0.112300</td>\n",
       "      <td>0.014680</td>\n",
       "      <td>-0.026316</td>\n",
       "      <td>0.037351</td>\n",
       "      <td>-0.060954</td>\n",
       "      <td>1.000000</td>\n",
       "      <td>-0.077092</td>\n",
       "      <td>-0.084589</td>\n",
       "      <td>0.067053</td>\n",
       "      <td>0.010467</td>\n",
       "      <td>0.063818</td>\n",
       "      <td>0.022436</td>\n",
       "      <td>-0.013894</td>\n",
       "      <td>0.017411</td>\n",
       "      <td>0.030805</td>\n",
       "      <td>0.046478</td>\n",
       "      <td>0.081129</td>\n",
       "    </tr>\n",
       "    <tr>\n",
       "      <th>housing</th>\n",
       "      <td>-0.168700</td>\n",
       "      <td>-0.078711</td>\n",
       "      <td>-0.022530</td>\n",
       "      <td>-0.040511</td>\n",
       "      <td>0.011076</td>\n",
       "      <td>-0.077092</td>\n",
       "      <td>1.000000</td>\n",
       "      <td>0.076761</td>\n",
       "      <td>-0.247982</td>\n",
       "      <td>-0.014770</td>\n",
       "      <td>-0.117996</td>\n",
       "      <td>0.035051</td>\n",
       "      <td>0.006660</td>\n",
       "      <td>0.064497</td>\n",
       "      <td>-0.000840</td>\n",
       "      <td>-0.062070</td>\n",
       "      <td>-0.203888</td>\n",
       "    </tr>\n",
       "    <tr>\n",
       "      <th>loan</th>\n",
       "      <td>-0.031418</td>\n",
       "      <td>-0.045122</td>\n",
       "      <td>-0.019343</td>\n",
       "      <td>-0.021496</td>\n",
       "      <td>0.076434</td>\n",
       "      <td>-0.084589</td>\n",
       "      <td>0.076761</td>\n",
       "      <td>1.000000</td>\n",
       "      <td>-0.020533</td>\n",
       "      <td>0.017269</td>\n",
       "      <td>0.005308</td>\n",
       "      <td>-0.001914</td>\n",
       "      <td>0.034722</td>\n",
       "      <td>-0.030416</td>\n",
       "      <td>-0.022668</td>\n",
       "      <td>-0.069933</td>\n",
       "      <td>-0.110580</td>\n",
       "    </tr>\n",
       "    <tr>\n",
       "      <th>contact</th>\n",
       "      <td>0.135411</td>\n",
       "      <td>0.011909</td>\n",
       "      <td>-0.016336</td>\n",
       "      <td>0.008602</td>\n",
       "      <td>-0.045252</td>\n",
       "      <td>0.067053</td>\n",
       "      <td>-0.247982</td>\n",
       "      <td>-0.020533</td>\n",
       "      <td>1.000000</td>\n",
       "      <td>0.004602</td>\n",
       "      <td>0.129358</td>\n",
       "      <td>0.002520</td>\n",
       "      <td>-0.012773</td>\n",
       "      <td>0.187992</td>\n",
       "      <td>0.156236</td>\n",
       "      <td>0.223145</td>\n",
       "      <td>0.212974</td>\n",
       "    </tr>\n",
       "    <tr>\n",
       "      <th>day</th>\n",
       "      <td>-0.000762</td>\n",
       "      <td>-0.009604</td>\n",
       "      <td>-0.001393</td>\n",
       "      <td>-0.003182</td>\n",
       "      <td>0.017342</td>\n",
       "      <td>0.010467</td>\n",
       "      <td>-0.014770</td>\n",
       "      <td>0.017269</td>\n",
       "      <td>0.004602</td>\n",
       "      <td>1.000000</td>\n",
       "      <td>0.060431</td>\n",
       "      <td>-0.018511</td>\n",
       "      <td>0.137007</td>\n",
       "      <td>-0.077232</td>\n",
       "      <td>-0.058981</td>\n",
       "      <td>-0.081805</td>\n",
       "      <td>-0.056326</td>\n",
       "    </tr>\n",
       "    <tr>\n",
       "      <th>month</th>\n",
       "      <td>0.069312</td>\n",
       "      <td>0.006207</td>\n",
       "      <td>-0.032277</td>\n",
       "      <td>0.013675</td>\n",
       "      <td>0.006561</td>\n",
       "      <td>0.063818</td>\n",
       "      <td>-0.117996</td>\n",
       "      <td>0.005308</td>\n",
       "      <td>0.129358</td>\n",
       "      <td>0.060431</td>\n",
       "      <td>1.000000</td>\n",
       "      <td>0.005390</td>\n",
       "      <td>0.039251</td>\n",
       "      <td>-0.035375</td>\n",
       "      <td>-0.002695</td>\n",
       "      <td>0.028980</td>\n",
       "      <td>0.028645</td>\n",
       "    </tr>\n",
       "    <tr>\n",
       "      <th>duration</th>\n",
       "      <td>0.000189</td>\n",
       "      <td>0.019971</td>\n",
       "      <td>0.035748</td>\n",
       "      <td>0.011850</td>\n",
       "      <td>-0.009760</td>\n",
       "      <td>0.022436</td>\n",
       "      <td>0.035051</td>\n",
       "      <td>-0.001914</td>\n",
       "      <td>0.002520</td>\n",
       "      <td>-0.018511</td>\n",
       "      <td>0.005390</td>\n",
       "      <td>1.000000</td>\n",
       "      <td>-0.041557</td>\n",
       "      <td>-0.027392</td>\n",
       "      <td>-0.026716</td>\n",
       "      <td>-0.042196</td>\n",
       "      <td>0.451919</td>\n",
       "    </tr>\n",
       "    <tr>\n",
       "      <th>campaign</th>\n",
       "      <td>-0.005278</td>\n",
       "      <td>-0.011725</td>\n",
       "      <td>-0.037285</td>\n",
       "      <td>0.010744</td>\n",
       "      <td>0.030975</td>\n",
       "      <td>-0.013894</td>\n",
       "      <td>0.006660</td>\n",
       "      <td>0.034722</td>\n",
       "      <td>-0.012773</td>\n",
       "      <td>0.137007</td>\n",
       "      <td>0.039251</td>\n",
       "      <td>-0.041557</td>\n",
       "      <td>1.000000</td>\n",
       "      <td>-0.102726</td>\n",
       "      <td>-0.049699</td>\n",
       "      <td>-0.133555</td>\n",
       "      <td>-0.128081</td>\n",
       "    </tr>\n",
       "    <tr>\n",
       "      <th>pdays</th>\n",
       "      <td>0.002774</td>\n",
       "      <td>-0.025605</td>\n",
       "      <td>0.006591</td>\n",
       "      <td>-0.028692</td>\n",
       "      <td>-0.036282</td>\n",
       "      <td>0.017411</td>\n",
       "      <td>0.064497</td>\n",
       "      <td>-0.030416</td>\n",
       "      <td>0.187992</td>\n",
       "      <td>-0.077232</td>\n",
       "      <td>-0.035375</td>\n",
       "      <td>-0.027392</td>\n",
       "      <td>-0.102726</td>\n",
       "      <td>1.000000</td>\n",
       "      <td>0.507272</td>\n",
       "      <td>0.726080</td>\n",
       "      <td>0.151593</td>\n",
       "    </tr>\n",
       "    <tr>\n",
       "      <th>previous</th>\n",
       "      <td>0.020169</td>\n",
       "      <td>-0.012549</td>\n",
       "      <td>-0.008577</td>\n",
       "      <td>-0.001618</td>\n",
       "      <td>-0.035273</td>\n",
       "      <td>0.030805</td>\n",
       "      <td>-0.000840</td>\n",
       "      <td>-0.022668</td>\n",
       "      <td>0.156236</td>\n",
       "      <td>-0.058981</td>\n",
       "      <td>-0.002695</td>\n",
       "      <td>-0.026716</td>\n",
       "      <td>-0.049699</td>\n",
       "      <td>0.507272</td>\n",
       "      <td>1.000000</td>\n",
       "      <td>0.555947</td>\n",
       "      <td>0.139867</td>\n",
       "    </tr>\n",
       "    <tr>\n",
       "      <th>poutcome</th>\n",
       "      <td>0.044880</td>\n",
       "      <td>-0.008664</td>\n",
       "      <td>-0.008716</td>\n",
       "      <td>-0.020162</td>\n",
       "      <td>-0.053619</td>\n",
       "      <td>0.046478</td>\n",
       "      <td>-0.062070</td>\n",
       "      <td>-0.069933</td>\n",
       "      <td>0.223145</td>\n",
       "      <td>-0.081805</td>\n",
       "      <td>0.028980</td>\n",
       "      <td>-0.042196</td>\n",
       "      <td>-0.133555</td>\n",
       "      <td>0.726080</td>\n",
       "      <td>0.555947</td>\n",
       "      <td>1.000000</td>\n",
       "      <td>0.269969</td>\n",
       "    </tr>\n",
       "    <tr>\n",
       "      <th>deposit</th>\n",
       "      <td>0.034901</td>\n",
       "      <td>0.024902</td>\n",
       "      <td>0.068325</td>\n",
       "      <td>-0.001849</td>\n",
       "      <td>-0.040680</td>\n",
       "      <td>0.081129</td>\n",
       "      <td>-0.203888</td>\n",
       "      <td>-0.110580</td>\n",
       "      <td>0.212974</td>\n",
       "      <td>-0.056326</td>\n",
       "      <td>0.028645</td>\n",
       "      <td>0.451919</td>\n",
       "      <td>-0.128081</td>\n",
       "      <td>0.151593</td>\n",
       "      <td>0.139867</td>\n",
       "      <td>0.269969</td>\n",
       "      <td>1.000000</td>\n",
       "    </tr>\n",
       "  </tbody>\n",
       "</table>\n",
       "</div>"
      ],
      "text/plain": [
       "                age       job   marital  education   default   balance  \\\n",
       "age        1.000000 -0.006349 -0.141610   0.120806 -0.011425  0.112300   \n",
       "job       -0.006349  1.000000 -0.015943   0.178020  0.021488  0.014680   \n",
       "marital   -0.141610 -0.015943  1.000000  -0.033793  0.013950 -0.026316   \n",
       "education  0.120806  0.178020 -0.033793   1.000000  0.003599  0.037351   \n",
       "default   -0.011425  0.021488  0.013950   0.003599  1.000000 -0.060954   \n",
       "balance    0.112300  0.014680 -0.026316   0.037351 -0.060954  1.000000   \n",
       "housing   -0.168700 -0.078711 -0.022530  -0.040511  0.011076 -0.077092   \n",
       "loan      -0.031418 -0.045122 -0.019343  -0.021496  0.076434 -0.084589   \n",
       "contact    0.135411  0.011909 -0.016336   0.008602 -0.045252  0.067053   \n",
       "day       -0.000762 -0.009604 -0.001393  -0.003182  0.017342  0.010467   \n",
       "month      0.069312  0.006207 -0.032277   0.013675  0.006561  0.063818   \n",
       "duration   0.000189  0.019971  0.035748   0.011850 -0.009760  0.022436   \n",
       "campaign  -0.005278 -0.011725 -0.037285   0.010744  0.030975 -0.013894   \n",
       "pdays      0.002774 -0.025605  0.006591  -0.028692 -0.036282  0.017411   \n",
       "previous   0.020169 -0.012549 -0.008577  -0.001618 -0.035273  0.030805   \n",
       "poutcome   0.044880 -0.008664 -0.008716  -0.020162 -0.053619  0.046478   \n",
       "deposit    0.034901  0.024902  0.068325  -0.001849 -0.040680  0.081129   \n",
       "\n",
       "            housing      loan   contact       day     month  duration  \\\n",
       "age       -0.168700 -0.031418  0.135411 -0.000762  0.069312  0.000189   \n",
       "job       -0.078711 -0.045122  0.011909 -0.009604  0.006207  0.019971   \n",
       "marital   -0.022530 -0.019343 -0.016336 -0.001393 -0.032277  0.035748   \n",
       "education -0.040511 -0.021496  0.008602 -0.003182  0.013675  0.011850   \n",
       "default    0.011076  0.076434 -0.045252  0.017342  0.006561 -0.009760   \n",
       "balance   -0.077092 -0.084589  0.067053  0.010467  0.063818  0.022436   \n",
       "housing    1.000000  0.076761 -0.247982 -0.014770 -0.117996  0.035051   \n",
       "loan       0.076761  1.000000 -0.020533  0.017269  0.005308 -0.001914   \n",
       "contact   -0.247982 -0.020533  1.000000  0.004602  0.129358  0.002520   \n",
       "day       -0.014770  0.017269  0.004602  1.000000  0.060431 -0.018511   \n",
       "month     -0.117996  0.005308  0.129358  0.060431  1.000000  0.005390   \n",
       "duration   0.035051 -0.001914  0.002520 -0.018511  0.005390  1.000000   \n",
       "campaign   0.006660  0.034722 -0.012773  0.137007  0.039251 -0.041557   \n",
       "pdays      0.064497 -0.030416  0.187992 -0.077232 -0.035375 -0.027392   \n",
       "previous  -0.000840 -0.022668  0.156236 -0.058981 -0.002695 -0.026716   \n",
       "poutcome  -0.062070 -0.069933  0.223145 -0.081805  0.028980 -0.042196   \n",
       "deposit   -0.203888 -0.110580  0.212974 -0.056326  0.028645  0.451919   \n",
       "\n",
       "           campaign     pdays  previous  poutcome   deposit  \n",
       "age       -0.005278  0.002774  0.020169  0.044880  0.034901  \n",
       "job       -0.011725 -0.025605 -0.012549 -0.008664  0.024902  \n",
       "marital   -0.037285  0.006591 -0.008577 -0.008716  0.068325  \n",
       "education  0.010744 -0.028692 -0.001618 -0.020162 -0.001849  \n",
       "default    0.030975 -0.036282 -0.035273 -0.053619 -0.040680  \n",
       "balance   -0.013894  0.017411  0.030805  0.046478  0.081129  \n",
       "housing    0.006660  0.064497 -0.000840 -0.062070 -0.203888  \n",
       "loan       0.034722 -0.030416 -0.022668 -0.069933 -0.110580  \n",
       "contact   -0.012773  0.187992  0.156236  0.223145  0.212974  \n",
       "day        0.137007 -0.077232 -0.058981 -0.081805 -0.056326  \n",
       "month      0.039251 -0.035375 -0.002695  0.028980  0.028645  \n",
       "duration  -0.041557 -0.027392 -0.026716 -0.042196  0.451919  \n",
       "campaign   1.000000 -0.102726 -0.049699 -0.133555 -0.128081  \n",
       "pdays     -0.102726  1.000000  0.507272  0.726080  0.151593  \n",
       "previous  -0.049699  0.507272  1.000000  0.555947  0.139867  \n",
       "poutcome  -0.133555  0.726080  0.555947  1.000000  0.269969  \n",
       "deposit   -0.128081  0.151593  0.139867  0.269969  1.000000  "
      ]
     },
     "execution_count": 47,
     "metadata": {},
     "output_type": "execute_result"
    }
   ],
   "source": [
    "data.corr()"
   ]
  },
  {
   "cell_type": "code",
   "execution_count": 48,
   "metadata": {},
   "outputs": [
    {
     "data": {
      "text/plain": [
       "<matplotlib.axes._subplots.AxesSubplot at 0x1608e101c88>"
      ]
     },
     "execution_count": 48,
     "metadata": {},
     "output_type": "execute_result"
    },
    {
     "data": {
      "image/png": "[encoded data removed]",
      "text/plain": [
       "<Figure size 432x288 with 1 Axes>"
      ]
     },
     "metadata": {},
     "output_type": "display_data"
    }
   ],
   "source": [
    "sns.countplot('deposit',data = data)"
   ]
  },
  {
   "cell_type": "code",
   "execution_count": 49,
   "metadata": {},
   "outputs": [],
   "source": [
    "from sklearn.linear_model import LogisticRegression\n",
    "from sklearn.model_selection import train_test_split"
   ]
  },
  {
   "cell_type": "code",
   "execution_count": 50,
   "metadata": {},
   "outputs": [],
   "source": [
    "model1 = LogisticRegression()"
   ]
  },
  {
   "cell_type": "code",
   "execution_count": 51,
   "metadata": {},
   "outputs": [],
   "source": [
    "x = data.drop(['deposit'],axis=1)"
   ]
  },
  {
   "cell_type": "code",
   "execution_count": 52,
   "metadata": {},
   "outputs": [],
   "source": [
    "y = data[['deposit']]"
   ]
  },
  {
   "cell_type": "code",
   "execution_count": 53,
   "metadata": {},
   "outputs": [
    {
     "data": {
      "text/html": [
       "<div>\n",
       "<style scoped>\n",
       "    .dataframe tbody tr th:only-of-type {\n",
       "        vertical-align: middle;\n",
       "    }\n",
       "\n",
       "    .dataframe tbody tr th {\n",
       "        vertical-align: top;\n",
       "    }\n",
       "\n",
       "    .dataframe thead th {\n",
       "        text-align: right;\n",
       "    }\n",
       "</style>\n",
       "<table border=\"1\" class=\"dataframe\">\n",
       "  <thead>\n",
       "    <tr style=\"text-align: right;\">\n",
       "      <th></th>\n",
       "      <th>age</th>\n",
       "      <th>job</th>\n",
       "      <th>marital</th>\n",
       "      <th>education</th>\n",
       "      <th>default</th>\n",
       "      <th>balance</th>\n",
       "      <th>housing</th>\n",
       "      <th>loan</th>\n",
       "      <th>contact</th>\n",
       "      <th>day</th>\n",
       "      <th>month</th>\n",
       "      <th>duration</th>\n",
       "      <th>campaign</th>\n",
       "      <th>pdays</th>\n",
       "      <th>previous</th>\n",
       "      <th>poutcome</th>\n",
       "    </tr>\n",
       "  </thead>\n",
       "  <tbody>\n",
       "    <tr>\n",
       "      <th>0</th>\n",
       "      <td>59</td>\n",
       "      <td>1</td>\n",
       "      <td>1</td>\n",
       "      <td>1</td>\n",
       "      <td>0</td>\n",
       "      <td>2343</td>\n",
       "      <td>1</td>\n",
       "      <td>0</td>\n",
       "      <td>0</td>\n",
       "      <td>5</td>\n",
       "      <td>5</td>\n",
       "      <td>1042</td>\n",
       "      <td>1</td>\n",
       "      <td>-1</td>\n",
       "      <td>0</td>\n",
       "      <td>0</td>\n",
       "    </tr>\n",
       "    <tr>\n",
       "      <th>1</th>\n",
       "      <td>56</td>\n",
       "      <td>1</td>\n",
       "      <td>1</td>\n",
       "      <td>1</td>\n",
       "      <td>0</td>\n",
       "      <td>45</td>\n",
       "      <td>0</td>\n",
       "      <td>0</td>\n",
       "      <td>0</td>\n",
       "      <td>5</td>\n",
       "      <td>5</td>\n",
       "      <td>1467</td>\n",
       "      <td>1</td>\n",
       "      <td>-1</td>\n",
       "      <td>0</td>\n",
       "      <td>0</td>\n",
       "    </tr>\n",
       "    <tr>\n",
       "      <th>2</th>\n",
       "      <td>41</td>\n",
       "      <td>2</td>\n",
       "      <td>1</td>\n",
       "      <td>1</td>\n",
       "      <td>0</td>\n",
       "      <td>1270</td>\n",
       "      <td>1</td>\n",
       "      <td>0</td>\n",
       "      <td>0</td>\n",
       "      <td>5</td>\n",
       "      <td>5</td>\n",
       "      <td>1389</td>\n",
       "      <td>1</td>\n",
       "      <td>-1</td>\n",
       "      <td>0</td>\n",
       "      <td>0</td>\n",
       "    </tr>\n",
       "    <tr>\n",
       "      <th>3</th>\n",
       "      <td>55</td>\n",
       "      <td>3</td>\n",
       "      <td>1</td>\n",
       "      <td>1</td>\n",
       "      <td>0</td>\n",
       "      <td>2476</td>\n",
       "      <td>1</td>\n",
       "      <td>0</td>\n",
       "      <td>0</td>\n",
       "      <td>5</td>\n",
       "      <td>5</td>\n",
       "      <td>579</td>\n",
       "      <td>1</td>\n",
       "      <td>-1</td>\n",
       "      <td>0</td>\n",
       "      <td>0</td>\n",
       "    </tr>\n",
       "    <tr>\n",
       "      <th>4</th>\n",
       "      <td>54</td>\n",
       "      <td>1</td>\n",
       "      <td>1</td>\n",
       "      <td>2</td>\n",
       "      <td>0</td>\n",
       "      <td>184</td>\n",
       "      <td>0</td>\n",
       "      <td>0</td>\n",
       "      <td>0</td>\n",
       "      <td>5</td>\n",
       "      <td>5</td>\n",
       "      <td>673</td>\n",
       "      <td>2</td>\n",
       "      <td>-1</td>\n",
       "      <td>0</td>\n",
       "      <td>0</td>\n",
       "    </tr>\n",
       "  </tbody>\n",
       "</table>\n",
       "</div>"
      ],
      "text/plain": [
       "   age  job  marital  education  default  balance  housing  loan  contact  \\\n",
       "0   59    1        1          1        0     2343        1     0        0   \n",
       "1   56    1        1          1        0       45        0     0        0   \n",
       "2   41    2        1          1        0     1270        1     0        0   \n",
       "3   55    3        1          1        0     2476        1     0        0   \n",
       "4   54    1        1          2        0      184        0     0        0   \n",
       "\n",
       "   day  month  duration  campaign  pdays  previous  poutcome  \n",
       "0    5      5      1042         1     -1         0         0  \n",
       "1    5      5      1467         1     -1         0         0  \n",
       "2    5      5      1389         1     -1         0         0  \n",
       "3    5      5       579         1     -1         0         0  \n",
       "4    5      5       673         2     -1         0         0  "
      ]
     },
     "execution_count": 53,
     "metadata": {},
     "output_type": "execute_result"
    }
   ],
   "source": [
    "x.head()"
   ]
  },
  {
   "cell_type": "code",
   "execution_count": 54,
   "metadata": {},
   "outputs": [
    {
     "data": {
      "text/html": [
       "<div>\n",
       "<style scoped>\n",
       "    .dataframe tbody tr th:only-of-type {\n",
       "        vertical-align: middle;\n",
       "    }\n",
       "\n",
       "    .dataframe tbody tr th {\n",
       "        vertical-align: top;\n",
       "    }\n",
       "\n",
       "    .dataframe thead th {\n",
       "        text-align: right;\n",
       "    }\n",
       "</style>\n",
       "<table border=\"1\" class=\"dataframe\">\n",
       "  <thead>\n",
       "    <tr style=\"text-align: right;\">\n",
       "      <th></th>\n",
       "      <th>deposit</th>\n",
       "    </tr>\n",
       "  </thead>\n",
       "  <tbody>\n",
       "    <tr>\n",
       "      <th>0</th>\n",
       "      <td>1</td>\n",
       "    </tr>\n",
       "    <tr>\n",
       "      <th>1</th>\n",
       "      <td>1</td>\n",
       "    </tr>\n",
       "    <tr>\n",
       "      <th>2</th>\n",
       "      <td>1</td>\n",
       "    </tr>\n",
       "    <tr>\n",
       "      <th>3</th>\n",
       "      <td>1</td>\n",
       "    </tr>\n",
       "    <tr>\n",
       "      <th>4</th>\n",
       "      <td>1</td>\n",
       "    </tr>\n",
       "  </tbody>\n",
       "</table>\n",
       "</div>"
      ],
      "text/plain": [
       "   deposit\n",
       "0        1\n",
       "1        1\n",
       "2        1\n",
       "3        1\n",
       "4        1"
      ]
     },
     "execution_count": 54,
     "metadata": {},
     "output_type": "execute_result"
    }
   ],
   "source": [
    "y.head()"
   ]
  },
  {
   "cell_type": "code",
   "execution_count": 55,
   "metadata": {},
   "outputs": [],
   "source": [
    "x_train,x_test,y_train,y_test = train_test_split(x,y)"
   ]
  },
  {
   "cell_type": "code",
   "execution_count": 56,
   "metadata": {},
   "outputs": [
    {
     "name": "stderr",
     "output_type": "stream",
     "text": [
      "d:\\python3.6\\lib\\site-packages\\sklearn\\utils\\validation.py:578: DataConversionWarning: A column-vector y was passed when a 1d array was expected. Please change the shape of y to (n_samples, ), for example using ravel().\n",
      "  y = column_or_1d(y, warn=True)\n"
     ]
    },
    {
     "data": {
      "text/plain": [
       "LogisticRegression(C=1.0, class_weight=None, dual=False, fit_intercept=True,\n",
       "          intercept_scaling=1, max_iter=100, multi_class='ovr', n_jobs=1,\n",
       "          penalty='l2', random_state=None, solver='liblinear', tol=0.0001,\n",
       "          verbose=0, warm_start=False)"
      ]
     },
     "execution_count": 56,
     "metadata": {},
     "output_type": "execute_result"
    }
   ],
   "source": [
    "model1.fit(x_train,y_train)"
   ]
  },
  {
   "cell_type": "code",
   "execution_count": 57,
   "metadata": {},
   "outputs": [
    {
     "data": {
      "text/plain": [
       "0.79512603034285034"
      ]
     },
     "execution_count": 57,
     "metadata": {},
     "output_type": "execute_result"
    }
   ],
   "source": [
    "model1.score(x_train,y_train)"
   ]
  },
  {
   "cell_type": "code",
   "execution_count": 58,
   "metadata": {},
   "outputs": [
    {
     "data": {
      "text/plain": [
       "0.7875313507703332"
      ]
     },
     "execution_count": 58,
     "metadata": {},
     "output_type": "execute_result"
    }
   ],
   "source": [
    "model1.score(x_test,y_test)"
   ]
  },
  {
   "cell_type": "code",
   "execution_count": 60,
   "metadata": {},
   "outputs": [],
   "source": [
    "from sklearn.ensemble import RandomForestClassifier"
   ]
  },
  {
   "cell_type": "code",
   "execution_count": 77,
   "metadata": {},
   "outputs": [],
   "source": [
    "model2 = RandomForestClassifier(n_estimators=52)"
   ]
  },
  {
   "cell_type": "code",
   "execution_count": 78,
   "metadata": {},
   "outputs": [
    {
     "name": "stderr",
     "output_type": "stream",
     "text": [
      "d:\\python3.6\\lib\\site-packages\\ipykernel_launcher.py:1: DataConversionWarning: A column-vector y was passed when a 1d array was expected. Please change the shape of y to (n_samples,), for example using ravel().\n",
      "  \"\"\"Entry point for launching an IPython kernel.\n"
     ]
    },
    {
     "data": {
      "text/plain": [
       "RandomForestClassifier(bootstrap=True, class_weight=None, criterion='gini',\n",
       "            max_depth=None, max_features='auto', max_leaf_nodes=None,\n",
       "            min_impurity_decrease=0.0, min_impurity_split=None,\n",
       "            min_samples_leaf=1, min_samples_split=2,\n",
       "            min_weight_fraction_leaf=0.0, n_estimators=52, n_jobs=1,\n",
       "            oob_score=False, random_state=None, verbose=0,\n",
       "            warm_start=False)"
      ]
     },
     "execution_count": 78,
     "metadata": {},
     "output_type": "execute_result"
    }
   ],
   "source": [
    "model2.fit(x_train,y_train)"
   ]
  },
  {
   "cell_type": "code",
   "execution_count": 79,
   "metadata": {},
   "outputs": [
    {
     "data": {
      "text/plain": [
       "0.99976107991876717"
      ]
     },
     "execution_count": 79,
     "metadata": {},
     "output_type": "execute_result"
    }
   ],
   "source": [
    "model2.score(x_train,y_train)"
   ]
  },
  {
   "cell_type": "code",
   "execution_count": 80,
   "metadata": {},
   "outputs": [
    {
     "data": {
      "text/plain": [
       "0.85202436402723036"
      ]
     },
     "execution_count": 80,
     "metadata": {},
     "output_type": "execute_result"
    }
   ],
   "source": [
    "model2.score(x_test,y_test)"
   ]
  },
  {
   "cell_type": "code",
   "execution_count": 81,
   "metadata": {},
   "outputs": [],
   "source": [
    "from sklearn.metrics import precision_score\n",
    "from sklearn.metrics import recall_score"
   ]
  },
  {
   "cell_type": "code",
   "execution_count": 82,
   "metadata": {},
   "outputs": [],
   "source": [
    "pred = model2.predict(x_test)"
   ]
  },
  {
   "cell_type": "code",
   "execution_count": 83,
   "metadata": {},
   "outputs": [
    {
     "data": {
      "text/plain": [
       "0.8285514345696291"
      ]
     },
     "execution_count": 83,
     "metadata": {},
     "output_type": "execute_result"
    }
   ],
   "source": [
    "precision_score(y_test,pred)"
   ]
  },
  {
   "cell_type": "code",
   "execution_count": 84,
   "metadata": {},
   "outputs": [
    {
     "data": {
      "text/plain": [
       "0.87573964497041423"
      ]
     },
     "execution_count": 84,
     "metadata": {},
     "output_type": "execute_result"
    }
   ],
   "source": [
    "recall_score(y_test,pred)"
   ]
  },
  {
   "cell_type": "code",
   "execution_count": null,
   "metadata": {},
   "outputs": [],
   "source": []
  }
 ],
 "metadata": {
  "kernelspec": {
   "display_name": "Python 3",
   "language": "python",
   "name": "python3"
  },
  "language_info": {
   "codemirror_mode": {
    "name": "ipython",
    "version": 3
   },
   "file_extension": ".py",
   "mimetype": "text/x-python",
   "name": "python",
   "nbconvert_exporter": "python",
   "pygments_lexer": "ipython3",
   "version": "3.6.3"
  }
 },
 "nbformat": 4,
 "nbformat_minor": 2
}
